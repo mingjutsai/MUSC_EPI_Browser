{
 "cells": [
  {
   "cell_type": "markdown",
   "metadata": {},
   "source": [
    "# Virtual environmnet"
   ]
  },
  {
   "cell_type": "markdown",
   "metadata": {},
   "source": [
    "```conda activate higlass-server``` "
   ]
  },
  {
   "cell_type": "markdown",
   "metadata": {},
   "source": [
    "# mcool files"
   ]
  },
  {
   "cell_type": "markdown",
   "metadata": {},
   "source": [
    "**example:**\n",
    "```python manage.py ingest_tileset --filename data/AMG_HS_heart_NHCFV_HiC.mcool --coordSystem hg38 --filetype cooler --datatype matrix --uid AMG_HS_heart_NHCFV_HiC --project-name NHCFV```\n",
    "\n",
    "**note:** no `.` in uid"
   ]
  },
  {
   "cell_type": "markdown",
   "metadata": {},
   "source": [
    "# beddb files"
   ]
  },
  {
   "cell_type": "markdown",
   "metadata": {},
   "source": [
    "### Convert bed file to beddb(higlass format)\n",
    "**example:**<br>\n",
    "in tmp folder<br>\n",
    "```clodius aggregate bedfile --chromsizes-filename hg38.chrom.sizes AMG_HS_HEART_NHCFV_SNP.bed```<br>\n",
    "Change the name to agree with our naming convention<br>\n",
    "```mv AMG_HS_HEART_NHCFV_SNP.bed.beddb AMG_HS_HEART_NHCFV_HIC_SNP.beddb```<br>\n",
    "```cp AMG_HS_HEART_NHCFV_SNP.beddb ../data```<br>\n",
    "```python manage.py ingest_tileset --filename data/AMG_HS_HEART_NHCFV_SNP.beddb --coordSystem hg38 --filetype beddb --datatype bedlike --uid AMG_HS_HEART_NHCFV_SNP --project-name NHCFV```<br>\n",
    "\n",
    "\n",
    "**another example for 1d-arcs:**\n",
    "```python manage.py ingest_tileset --filename data/AMG_HS_heart_NHCFV_HiC_loop.beddb --coordSystem hg38 --filetype beddb --datatype bedlike --uid AMG_HS_heart_NHCFV_HiC_loop --project-name NHCFV```\n",
    "<br>\n",
    "**note:** this can be used to ingest arc files, the arc track datatype need to be changed to \"1d-arcs\" as higlass doesn't support 1d-arcs as a datatype in the ingest_tileset method at the time this notebook is writted, 5.5.2020.  "
   ]
  },
  {
   "cell_type": "markdown",
   "metadata": {},
   "source": [
    "# bigwig files"
   ]
  },
  {
   "cell_type": "markdown",
   "metadata": {},
   "source": [
    "**AMG data example:**\n",
    "```python manage.py ingest_tileset --filename data/AMG_HS_heart_NHCFV_ATAC_pval.bigwig --coordSystem hg38 --filetype bigwig --datatype vector --uid AMG_HS_heart_NHCFV_ATAC_pval --project-name NHCFV```<br>\n",
    "\n",
    "\n",
    "metadata: <br>\n",
    "https://www.encodeproject.org/experiments/ENCFF944YFS/ H3K3me1 <br>\n",
    "https://www.encodeproject.org/experiments/ENCFF326LWU/ H3K27ac <br>\n",
    "\n",
    "**ENCODE data example:**\n",
    "```python manage.py ingest_tileset --filename data/ENCODE_HS_heart_PC_H3K4me1_pval.bigwig --coordSystem hg38 --filetype bigwig --datatype vector --uid ENCODE_HS_heart_PC_H3K4me1_pval --project-name AMG_internalized_ENCODE```<br>\n",
    "\n",
    "```python manage.py ingest_tileset --filename data/ENCODE_HS_heart_PC_H3K3me3_pval.bigwig --coordSystem hg38 --filetype bigwig --datatype vector --uid ENCODE_HS_heart_PC_H3K3me3_pval --project-name AMG_internalized_ENCODE```<br>"
   ]
  },
  {
   "cell_type": "markdown",
   "metadata": {},
   "source": [
    "# Multivec"
   ]
  },
  {
   "cell_type": "markdown",
   "metadata": {},
   "source": [
    "```clodius convert bedfile-to-multivec E095_25_imputed12marks_hg38lift_dense.bed.gz --assembly hg38 --starting-resolution 200 --row-infos-filename row_infos.txt --num-rows 25 --format states```"
   ]
  },
  {
   "cell_type": "markdown",
   "metadata": {},
   "source": [
    "# automate the ingest process to save some time\n",
    "### this needes to be in the data folder (i.e. )"
   ]
  },
  {
   "cell_type": "code",
   "execution_count": 8,
   "metadata": {},
   "outputs": [],
   "source": [
    "import subprocess\n",
    "import os\n",
    "SPECIES_ALLOWED = [\"HS\"]\n",
    "def get_uid(source, species, tissue, cell_type, expt, *add_on):\n",
    "    if species.upper() not in SPECIES_ALLOWED:\n",
    "        raise(KeyError(\"Not a recognized species\"))\n",
    "    return f\"{source.upper()}_{species.upper()}_{tissue.upper()}_{cell_type.upper()}_{expt.upper()}\" + \"\".join([\"_\"+ x.upper() for x in add_on])\n",
    "    \n",
    "def ingest(project_name, file_type, source, species, tissue, cell_type, expt, *add_on):\n",
    "\n",
    "    # set filetype 2 datatype map\n",
    "    ft2dt = {\"bigwig\": \"vector\", \"beddb\": \"bedlike\", \"cooler\": \"matrix\"}\n",
    "    ft2ext = {\"bigwig\": \"bigwig\", \"beddb\": \"beddb\", \"cooler\": \"mcool\"}\n",
    "    \n",
    "    # get uid and filename\n",
    "    uid = get_uid(source, species, tissue, cell_type, expt, *add_on)\n",
    "    print(uid)\n",
    "    file_name = uid + \".\" + ft2ext[file_type]\n",
    "    \n",
    "   \n",
    "    if 'manage.py' not in os.listdir(\"../\"):\n",
    "        raise(EnvironmentError(\"You should be running this script in higlass-server/data folder\"))\n",
    "    \n",
    "    # ingest\n",
    "    process = subprocess.run(f'python ../manage.py ingest_tileset --filename {file_name} \\\n",
    "                       --coordSystem hg38 --filetype {file_type} --datatype {ft2dt[file_type]} \\\n",
    "                       --uid {uid} --project-name {project_name}',shell=True, universal_newlines=True, \n",
    "                        stderr=subprocess.PIPE)\n",
    "\n",
    "    if process.stderr:\n",
    "        print(process.stderr)\n",
    "    "
   ]
  },
  {
   "cell_type": "code",
   "execution_count": 7,
   "metadata": {},
   "outputs": [
    {
     "name": "stdout",
     "output_type": "stream",
     "text": [
      "AMG_HS_HEART_NHCFV_HIC_SNP\n"
     ]
    }
   ],
   "source": [
    "ingest(\"NHCFV\", \"beddb\", \"AMG\", \"HS\", \"heart\", \"NHCFV\", \"HiC\", \"SNP\")"
   ]
  },
  {
   "cell_type": "markdown",
   "metadata": {},
   "source": [
    "## Random notes"
   ]
  },
  {
   "cell_type": "code",
   "execution_count": null,
   "metadata": {},
   "outputs": [],
   "source": [
    "python manage.py ingest_tileset --filename data/ROADMAP_E095_HS_HEART_PC_CHROMHMM.beddb --coordSystem hg38 --filetype beddb --datatype bedlike --uid ROADMAP_E095_HS_HEART_PC_CHROMHMM --project-name ChromHMM"
   ]
  },
  {
   "cell_type": "code",
   "execution_count": null,
   "metadata": {},
   "outputs": [],
   "source": [
    "    python manage.py ingest_tileset --filename data/AMG_HS_ --coordSystem hg38 --filetype beddb --datatype bedlike --uid AMG_HS_heart_NHCFV_HIC_SNP --project-name NHCFV"
   ]
  },
  {
   "cell_type": "code",
   "execution_count": null,
   "metadata": {},
   "outputs": [],
   "source": [
    "ython manage.py ingest_tileset --filename data/ENCODE_HS_heart_PC_H3K4me3_pval.bigwig --coordSystem hg38 --filetype bigwig --datatype vector --uid ENCODE_HS_heart_PC_H3K4me3_pval --project-name AMG_internalized_ENCODE"
   ]
  }
 ],
 "metadata": {
  "kernelspec": {
   "display_name": "Python [conda env:higlass-server]",
   "language": "python",
   "name": "conda-env-higlass-server-py"
  },
  "language_info": {
   "codemirror_mode": {
    "name": "ipython",
    "version": 3
   },
   "file_extension": ".py",
   "mimetype": "text/x-python",
   "name": "python",
   "nbconvert_exporter": "python",
   "pygments_lexer": "ipython3",
   "version": "3.8.2"
  }
 },
 "nbformat": 4,
 "nbformat_minor": 4
}
