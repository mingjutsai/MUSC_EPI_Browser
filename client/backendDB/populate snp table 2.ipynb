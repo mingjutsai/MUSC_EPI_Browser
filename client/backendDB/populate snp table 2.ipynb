{
 "cells": [
  {
   "cell_type": "code",
   "execution_count": 8,
   "metadata": {},
   "outputs": [],
   "source": [
    "import pandas as pd\n",
    "from pymongo import MongoClient\n",
    "client = MongoClient('localhost', 27018)\n",
    "db = client.TableView\n",
    "collection = db[\"dbSNP153_Annotation\"]"
   ]
  },
  {
   "cell_type": "code",
   "execution_count": 9,
   "metadata": {},
   "outputs": [
    {
     "name": "stderr",
     "output_type": "stream",
     "text": [
      "<ipython-input-9-8ff4d2505e25>:1: DeprecationWarning: collection_names is deprecated. Use list_collection_names instead.\n",
      "  db.collection_names()\n"
     ]
    },
    {
     "data": {
      "text/plain": [
       "['gene',\n",
       " 'Promoter',\n",
       " 'Disease2SNP',\n",
       " 'gene2snps',\n",
       " 'bin_NHCFV',\n",
       " 'dbSNP153_Annotation']"
      ]
     },
     "execution_count": 9,
     "metadata": {},
     "output_type": "execute_result"
    }
   ],
   "source": [
    "db.collection_names()"
   ]
  },
  {
   "cell_type": "code",
   "execution_count": 4,
   "metadata": {},
   "outputs": [],
   "source": [
    "df = pd.read_csv(\"df_gwas_collection.csv\")\n",
    "\n",
    "df = df[df.columns[1:]]"
   ]
  },
  {
   "cell_type": "code",
   "execution_count": 5,
   "metadata": {},
   "outputs": [
    {
     "data": {
      "text/html": [
       "<div>\n",
       "<style scoped>\n",
       "    .dataframe tbody tr th:only-of-type {\n",
       "        vertical-align: middle;\n",
       "    }\n",
       "\n",
       "    .dataframe tbody tr th {\n",
       "        vertical-align: top;\n",
       "    }\n",
       "\n",
       "    .dataframe thead th {\n",
       "        text-align: right;\n",
       "    }\n",
       "</style>\n",
       "<table border=\"1\" class=\"dataframe\">\n",
       "  <thead>\n",
       "    <tr style=\"text-align: right;\">\n",
       "      <th></th>\n",
       "      <th>RSID</th>\n",
       "      <th>trait</th>\n",
       "      <th>mapped_gene</th>\n",
       "    </tr>\n",
       "  </thead>\n",
       "  <tbody>\n",
       "    <tr>\n",
       "      <th>0</th>\n",
       "      <td>rs141175086</td>\n",
       "      <td>Morning vs. evening chronotype</td>\n",
       "      <td>LINC01128</td>\n",
       "    </tr>\n",
       "    <tr>\n",
       "      <th>1</th>\n",
       "      <td>rs2272756</td>\n",
       "      <td>Skin reflectance (Melanin index)</td>\n",
       "      <td>NR</td>\n",
       "    </tr>\n",
       "    <tr>\n",
       "      <th>2</th>\n",
       "      <td>rs115438739</td>\n",
       "      <td>California verbal learning test score</td>\n",
       "      <td>NOC2L</td>\n",
       "    </tr>\n",
       "    <tr>\n",
       "      <th>3</th>\n",
       "      <td>rs13303010</td>\n",
       "      <td>Pancreatic cancer</td>\n",
       "      <td>NOC2L</td>\n",
       "    </tr>\n",
       "    <tr>\n",
       "      <th>4</th>\n",
       "      <td>rs13303327</td>\n",
       "      <td>Heel bone mineral density</td>\n",
       "      <td>KLHL17</td>\n",
       "    </tr>\n",
       "  </tbody>\n",
       "</table>\n",
       "</div>"
      ],
      "text/plain": [
       "          RSID                                  trait mapped_gene\n",
       "0  rs141175086         Morning vs. evening chronotype   LINC01128\n",
       "1    rs2272756       Skin reflectance (Melanin index)          NR\n",
       "2  rs115438739  California verbal learning test score       NOC2L\n",
       "3   rs13303010                      Pancreatic cancer       NOC2L\n",
       "4   rs13303327              Heel bone mineral density      KLHL17"
      ]
     },
     "execution_count": 5,
     "metadata": {},
     "output_type": "execute_result"
    }
   ],
   "source": [
    "df.head()"
   ]
  },
  {
   "cell_type": "code",
   "execution_count": 28,
   "metadata": {},
   "outputs": [],
   "source": [
    "df = df.drop_duplicates()"
   ]
  },
  {
   "cell_type": "code",
   "execution_count": 29,
   "metadata": {},
   "outputs": [
    {
     "data": {
      "text/plain": [
       "(154842, 3)"
      ]
     },
     "execution_count": 29,
     "metadata": {},
     "output_type": "execute_result"
    }
   ],
   "source": [
    "df.shape"
   ]
  },
  {
   "cell_type": "code",
   "execution_count": 30,
   "metadata": {},
   "outputs": [
    {
     "data": {
      "text/plain": [
       "111492"
      ]
     },
     "execution_count": 30,
     "metadata": {},
     "output_type": "execute_result"
    }
   ],
   "source": [
    "len(df[\"RSID\"].unique())"
   ]
  },
  {
   "cell_type": "code",
   "execution_count": 31,
   "metadata": {},
   "outputs": [],
   "source": [
    "df_mapped_genes = df[[\"RSID\", \"mapped_gene\"]].drop_duplicates()"
   ]
  },
  {
   "cell_type": "code",
   "execution_count": 32,
   "metadata": {},
   "outputs": [
    {
     "data": {
      "text/plain": [
       "(128336, 2)"
      ]
     },
     "execution_count": 32,
     "metadata": {},
     "output_type": "execute_result"
    }
   ],
   "source": [
    "df_mapped_genes.shape"
   ]
  },
  {
   "cell_type": "code",
   "execution_count": 54,
   "metadata": {},
   "outputs": [],
   "source": [
    "import collections\n",
    "rsid_dict = collections.defaultdict(list)\n",
    "for i, r in df_mapped_genes.iterrows():\n",
    "    if pd.isna(r.mapped_gene) or r.mapped_gene == \"NR\":\n",
    "        continue\n",
    "    if \",\" in r.mapped_gene:\n",
    "        mapped_gene = [x.strip() for x in r.mapped_gene.split(\",\")]\n",
    "    else :\n",
    "        mapped_gene = [r.mapped_gene]\n",
    "    rsid_dict[r.RSID] = list(set(rsid_dict[r.RSID]) | set(mapped_gene))"
   ]
  },
  {
   "cell_type": "code",
   "execution_count": 55,
   "metadata": {},
   "outputs": [],
   "source": [
    "dup_rsid = [ key for key in rsid_dict if len(rsid_dict[key]) > 1]"
   ]
  },
  {
   "cell_type": "code",
   "execution_count": 56,
   "metadata": {},
   "outputs": [
    {
     "data": {
      "text/plain": [
       "13082"
      ]
     },
     "execution_count": 56,
     "metadata": {},
     "output_type": "execute_result"
    }
   ],
   "source": [
    "len(dup_rsid)"
   ]
  },
  {
   "cell_type": "code",
   "execution_count": 57,
   "metadata": {},
   "outputs": [
    {
     "data": {
      "text/plain": [
       "['rs75972122',\n",
       " 'rs6603785',\n",
       " 'rs12103',\n",
       " 'rs1886773',\n",
       " 'rs71628956',\n",
       " 'rs78389809',\n",
       " 'rs3765908',\n",
       " 'rs139385870',\n",
       " 'rs2803328',\n",
       " 'rs2843152']"
      ]
     },
     "execution_count": 57,
     "metadata": {},
     "output_type": "execute_result"
    }
   ],
   "source": [
    "dup_rsid[:10]"
   ]
  },
  {
   "cell_type": "code",
   "execution_count": 58,
   "metadata": {},
   "outputs": [
    {
     "data": {
      "text/plain": [
       "['PARK7', 'ERFFI1', 'UTS2', 'TNFRSF9']"
      ]
     },
     "execution_count": 58,
     "metadata": {},
     "output_type": "execute_result"
    }
   ],
   "source": [
    "rsid_dict[\"rs35675666\"]"
   ]
  },
  {
   "cell_type": "code",
   "execution_count": 59,
   "metadata": {},
   "outputs": [],
   "source": [
    "\n",
    "def update(rsid_dict, verbose=False, generateFile=False):\n",
    "    def addDataIfExist(r, label):\n",
    "        if not pd.isna(r[label]):\n",
    "            return r[label]\n",
    "        else:\n",
    "            return \"\"\n",
    "    for rsid in rsid_dict:\n",
    "        collection.update_many({\"RSID\": rsid}, {\"$set\": { \"gwas_gene\": rsid_dict[rsid]}})\n",
    "update(rsid_dict)"
   ]
  },
  {
   "cell_type": "code",
   "execution_count": 11,
   "metadata": {},
   "outputs": [],
   "source": [
    "for r in collection.find({\"RSID\": \"rs78389809\"}):\n",
    "    print(r)"
   ]
  },
  {
   "cell_type": "code",
   "execution_count": 10,
   "metadata": {},
   "outputs": [
    {
     "name": "stdout",
     "output_type": "stream",
     "text": [
      "{'AAChange_Ensembl': '',\n",
      " 'Alt': 'A',\n",
      " 'Chr': 6,\n",
      " 'End': 33566949,\n",
      " 'GeneInfo_DistNG_Ensembl': 'dist=3819;dist=5598',\n",
      " 'GeneName_ID_Ensembl': 'Z93017.1,BAK1',\n",
      " 'NHCFV': {'ATAC': {'q_val(-log10)': 22.05603,\n",
      "                    'region': 'chr6:33566606-33567358'},\n",
      "           'ChromHMM': '25_Quies',\n",
      "           'Fantom5': '',\n",
      "           'Footprinting_MPBS': [],\n",
      "           'HomerSig_Promoter_Regulaotry': '',\n",
      "           'HomerSig_Regulaotry_Promoter': 'RegulatoryBin:chr6:33566000:33568000,RegulatoryID:interaction83980_chr6_bin1,PromoterBin:chr6:33432000:33434000,PromoterID:interaction83980_chr6_bin2,InteractionReads:6.000000,LogP:-7.437166,FDR:1.000000,TargetGene:Gene:SYNGAP1,Transcript:ENST00000645250.1,TxtStart:33431910,Gene:SYNGAP1,Transcript:ENST00000428982.4,TxtStart:33431730'},\n",
      " 'RSID': 'rs6910233',\n",
      " 'Ref': 'G',\n",
      " 'Region': 'intergenic',\n",
      " 'Start': 33566949,\n",
      " '_id': ObjectId('5eccc2682a86ac942dcd3844'),\n",
      " 'gwasCatalog': 'Trait=Chagas cardiomyopathy in Tripanosoma cruzi '\n",
      "                'seropositivity,RiskAllele=rs6910233-?,RiskFreq=NR,P-value=4E-6,OR/Beta=NA'}\n",
      "{'AAChange_Ensembl': '',\n",
      " 'Alt': 'T',\n",
      " 'Chr': 6,\n",
      " 'End': 33566949,\n",
      " 'GeneInfo_DistNG_Ensembl': 'dist=3819;dist=5598',\n",
      " 'GeneName_ID_Ensembl': 'Z93017.1,BAK1',\n",
      " 'NHCFV': {'ATAC': {'q_val(-log10)': 22.05603,\n",
      "                    'region': 'chr6:33566606-33567358'},\n",
      "           'ChromHMM': '25_Quies',\n",
      "           'Fantom5': '',\n",
      "           'Footprinting_MPBS': [],\n",
      "           'HomerSig_Promoter_Regulaotry': '',\n",
      "           'HomerSig_Regulaotry_Promoter': 'RegulatoryBin:chr6:33566000:33568000,RegulatoryID:interaction83980_chr6_bin1,PromoterBin:chr6:33432000:33434000,PromoterID:interaction83980_chr6_bin2,InteractionReads:6.000000,LogP:-7.437166,FDR:1.000000,TargetGene:Gene:SYNGAP1,Transcript:ENST00000645250.1,TxtStart:33431910,Gene:SYNGAP1,Transcript:ENST00000428982.4,TxtStart:33431730'},\n",
      " 'RSID': 'rs6910233',\n",
      " 'Ref': 'G',\n",
      " 'Region': 'intergenic',\n",
      " 'Start': 33566949,\n",
      " '_id': ObjectId('5eccc2682a86ac942dcd3845'),\n",
      " 'gwasCatalog': 'Trait=Chagas cardiomyopathy in Tripanosoma cruzi '\n",
      "                'seropositivity,RiskAllele=rs6910233-?,RiskFreq=NR,P-value=4E-6,OR/Beta=NA'}\n"
     ]
    }
   ],
   "source": [
    "import pprint\n",
    "db = client.TableView\n",
    "collection = db[\"dbSNP153_Annotation\"]\n",
    "for doc in collection.find({\"RSID\": \"rs6910233\" }):\n",
    "    pprint.pprint(doc)"
   ]
  },
  {
   "cell_type": "code",
   "execution_count": 6,
   "metadata": {},
   "outputs": [],
   "source": [
    "db = client.TableView\n",
    "collection = db[\"dbSNP153_Annotation\"]\n",
    "for doc in collection.find({ \"gwas_gene\": { '$exists': True } }):\n",
    "    print(doc)"
   ]
  },
  {
   "cell_type": "code",
   "execution_count": 66,
   "metadata": {},
   "outputs": [
    {
     "name": "stdout",
     "output_type": "stream",
     "text": [
      "{'_id': ObjectId('5ecdb090b1ef59e0d227b0ae'), 'RSID': 'rs1414996067', 'Chr': 6, 'Start': 150845451, 'End': 150845453, 'Ref': 'CTG', 'Alt': 'C', 'Region': 'intergenic', 'GeneInfo_DistNG_Ensembl': 'dist=1786;dist=20096', 'NHCFV': {'ChromHMM': '8_TxWk', 'Fantom5': '', 'ATAC': '', 'Footprinting_MPBS': '', 'HomerSig_Regulaotry_Promoter': '', 'HomerSig_Promoter_Regulaotry': ''}, 'GeneName_ID_Ensembl': 'PLEKHG1,MTHFD1L', 'AAChange_Ensembl': '', 'gwasCatalog': ''}\n"
     ]
    }
   ],
   "source": [
    "for doc in collection.find({\"RSID\": { \"$in\": [ \"rs2843152\", \"rs1414996067\" ] }}):\n",
    "    print(doc)"
   ]
  },
  {
   "cell_type": "code",
   "execution_count": 72,
   "metadata": {},
   "outputs": [],
   "source": [
    "## test\n",
    "client = MongoClient('localhost', 27017)\n",
    "db = client.test\n",
    "collection = db.Annotation_test"
   ]
  },
  {
   "cell_type": "code",
   "execution_count": 76,
   "metadata": {},
   "outputs": [
    {
     "name": "stdout",
     "output_type": "stream",
     "text": [
      "{'_id': ObjectId('5ecdaedbb1ef59e0d2233217'), 'RSID': 'rs1414996067', 'Chr': 6, 'Start': 150845451, 'End': 150845453, 'Ref': 'CTG', 'Alt': 'C', 'Region': 'intergenic', 'GeneInfo_DistNG_Ensembl': 'dist=1786;dist=20096', 'NHCFV': {'ChromHMM': '8_TxWk', 'Fantom5': '', 'ATAC': '', 'Footprinting_MPBS': '', 'HomerSig_Regulaotry_Promoter': '', 'HomerSig_Promoter_Regulaotry': ''}, 'GeneName_ID_Ensembl': 'PLEKHG1,MTHFD1L', 'AAChange_Ensembl': '', 'gwasCatalog': ''}\n"
     ]
    }
   ],
   "source": [
    "for doc in collection.find({\"RSID\": \"rs1414996067\"}):\n",
    "    print(doc)"
   ]
  },
  {
   "cell_type": "code",
   "execution_count": 77,
   "metadata": {},
   "outputs": [
    {
     "data": {
      "text/plain": [
       "<pymongo.results.UpdateResult at 0x7f867ce1df80>"
      ]
     },
     "execution_count": 77,
     "metadata": {},
     "output_type": "execute_result"
    }
   ],
   "source": [
    "collection.update_many({\"RSID\": \"rs1414996067\"}, {\"$set\":{\"gwas_gene\":\"test\"}})"
   ]
  },
  {
   "cell_type": "code",
   "execution_count": 79,
   "metadata": {},
   "outputs": [
    {
     "name": "stdout",
     "output_type": "stream",
     "text": [
      "{'_id': ObjectId('5ecdaedbb1ef59e0d2233217'), 'RSID': 'rs1414996067', 'Chr': 6, 'Start': 150845451, 'End': 150845453, 'Ref': 'CTG', 'Alt': 'C', 'Region': 'intergenic', 'GeneInfo_DistNG_Ensembl': 'dist=1786;dist=20096', 'NHCFV': {'ChromHMM': '8_TxWk', 'Fantom5': '', 'ATAC': '', 'Footprinting_MPBS': '', 'HomerSig_Regulaotry_Promoter': '', 'HomerSig_Promoter_Regulaotry': ''}, 'GeneName_ID_Ensembl': 'PLEKHG1,MTHFD1L', 'AAChange_Ensembl': '', 'gwasCatalog': '', 'gwas_gene': 'test'}\n"
     ]
    }
   ],
   "source": [
    "for doc in collection.find({ \"gwas_gene\": { '$exists': True } }):\n",
    "    print(doc)"
   ]
  },
  {
   "cell_type": "code",
   "execution_count": 83,
   "metadata": {},
   "outputs": [
    {
     "data": {
      "text/plain": [
       "[]"
      ]
     },
     "execution_count": 83,
     "metadata": {},
     "output_type": "execute_result"
    }
   ],
   "source": [
    "rsid_dict[\"rs6910233\"]"
   ]
  },
  {
   "cell_type": "code",
   "execution_count": 85,
   "metadata": {},
   "outputs": [
    {
     "data": {
      "text/html": [
       "<div>\n",
       "<style scoped>\n",
       "    .dataframe tbody tr th:only-of-type {\n",
       "        vertical-align: middle;\n",
       "    }\n",
       "\n",
       "    .dataframe tbody tr th {\n",
       "        vertical-align: top;\n",
       "    }\n",
       "\n",
       "    .dataframe thead th {\n",
       "        text-align: right;\n",
       "    }\n",
       "</style>\n",
       "<table border=\"1\" class=\"dataframe\">\n",
       "  <thead>\n",
       "    <tr style=\"text-align: right;\">\n",
       "      <th></th>\n",
       "      <th>RSID</th>\n",
       "      <th>trait</th>\n",
       "      <th>mapped_gene</th>\n",
       "    </tr>\n",
       "  </thead>\n",
       "  <tbody>\n",
       "    <tr>\n",
       "      <th>149659</th>\n",
       "      <td>rs6910233</td>\n",
       "      <td>Chagas cardiomyopathy in Tripanosoma cruzi ser...</td>\n",
       "      <td>NR</td>\n",
       "    </tr>\n",
       "  </tbody>\n",
       "</table>\n",
       "</div>"
      ],
      "text/plain": [
       "             RSID                                              trait  \\\n",
       "149659  rs6910233  Chagas cardiomyopathy in Tripanosoma cruzi ser...   \n",
       "\n",
       "       mapped_gene  \n",
       "149659          NR  "
      ]
     },
     "execution_count": 85,
     "metadata": {},
     "output_type": "execute_result"
    }
   ],
   "source": [
    "df[df[\"RSID\"].str.contains(\"rs6910233\")]"
   ]
  },
  {
   "cell_type": "code",
   "execution_count": null,
   "metadata": {},
   "outputs": [],
   "source": []
  }
 ],
 "metadata": {
  "kernelspec": {
   "display_name": "Python [conda env:mongodb]",
   "language": "python",
   "name": "conda-env-mongodb-py"
  },
  "language_info": {
   "codemirror_mode": {
    "name": "ipython",
    "version": 3
   },
   "file_extension": ".py",
   "mimetype": "text/x-python",
   "name": "python",
   "nbconvert_exporter": "python",
   "pygments_lexer": "ipython3",
   "version": "3.8.3"
  }
 },
 "nbformat": 4,
 "nbformat_minor": 4
}
